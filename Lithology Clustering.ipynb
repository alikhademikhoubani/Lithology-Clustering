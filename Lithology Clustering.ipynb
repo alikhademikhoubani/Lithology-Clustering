{
 "cells": [
  {
   "cell_type": "code",
   "execution_count": 58,
   "id": "78a4ad0c",
   "metadata": {},
   "outputs": [],
   "source": [
    "import numpy as np\n",
    "import pandas as pd\n",
    "import matplotlib.pyplot as plt\n",
    "from sklearn.preprocessing import StandardScaler\n",
    "from sklearn.cluster import KMeans\n",
    "import pickle"
   ]
  },
  {
   "cell_type": "code",
   "execution_count": 59,
   "id": "16abbe2e",
   "metadata": {},
   "outputs": [],
   "source": [
    "df=pd.read_csv('force2020_data_unsupervised_learning.csv',index_col='DEPTH_MD')"
   ]
  },
  {
   "cell_type": "code",
   "execution_count": 60,
   "id": "135b16bb",
   "metadata": {},
   "outputs": [
    {
     "data": {
      "text/html": [
       "<div>\n",
       "<style scoped>\n",
       "    .dataframe tbody tr th:only-of-type {\n",
       "        vertical-align: middle;\n",
       "    }\n",
       "\n",
       "    .dataframe tbody tr th {\n",
       "        vertical-align: top;\n",
       "    }\n",
       "\n",
       "    .dataframe thead th {\n",
       "        text-align: right;\n",
       "    }\n",
       "</style>\n",
       "<table border=\"1\" class=\"dataframe\">\n",
       "  <thead>\n",
       "    <tr style=\"text-align: right;\">\n",
       "      <th></th>\n",
       "      <th>RHOB</th>\n",
       "      <th>GR</th>\n",
       "      <th>NPHI</th>\n",
       "      <th>PEF</th>\n",
       "      <th>DTC</th>\n",
       "    </tr>\n",
       "    <tr>\n",
       "      <th>DEPTH_MD</th>\n",
       "      <th></th>\n",
       "      <th></th>\n",
       "      <th></th>\n",
       "      <th></th>\n",
       "      <th></th>\n",
       "    </tr>\n",
       "  </thead>\n",
       "  <tbody>\n",
       "    <tr>\n",
       "      <th>494.528</th>\n",
       "      <td>1.884186</td>\n",
       "      <td>80.200851</td>\n",
       "      <td>NaN</td>\n",
       "      <td>20.915468</td>\n",
       "      <td>161.131180</td>\n",
       "    </tr>\n",
       "    <tr>\n",
       "      <th>494.680</th>\n",
       "      <td>1.889794</td>\n",
       "      <td>79.262886</td>\n",
       "      <td>NaN</td>\n",
       "      <td>19.383013</td>\n",
       "      <td>160.603470</td>\n",
       "    </tr>\n",
       "    <tr>\n",
       "      <th>494.832</th>\n",
       "      <td>1.896523</td>\n",
       "      <td>74.821999</td>\n",
       "      <td>NaN</td>\n",
       "      <td>22.591518</td>\n",
       "      <td>160.173615</td>\n",
       "    </tr>\n",
       "    <tr>\n",
       "      <th>494.984</th>\n",
       "      <td>1.891913</td>\n",
       "      <td>72.878922</td>\n",
       "      <td>NaN</td>\n",
       "      <td>32.191910</td>\n",
       "      <td>160.149429</td>\n",
       "    </tr>\n",
       "    <tr>\n",
       "      <th>495.136</th>\n",
       "      <td>1.880034</td>\n",
       "      <td>71.729141</td>\n",
       "      <td>NaN</td>\n",
       "      <td>38.495632</td>\n",
       "      <td>160.128342</td>\n",
       "    </tr>\n",
       "    <tr>\n",
       "      <th>...</th>\n",
       "      <td>...</td>\n",
       "      <td>...</td>\n",
       "      <td>...</td>\n",
       "      <td>...</td>\n",
       "      <td>...</td>\n",
       "    </tr>\n",
       "    <tr>\n",
       "      <th>3271.416</th>\n",
       "      <td>2.630211</td>\n",
       "      <td>19.418915</td>\n",
       "      <td>0.187811</td>\n",
       "      <td>NaN</td>\n",
       "      <td>NaN</td>\n",
       "    </tr>\n",
       "    <tr>\n",
       "      <th>3271.568</th>\n",
       "      <td>2.643114</td>\n",
       "      <td>21.444370</td>\n",
       "      <td>0.185574</td>\n",
       "      <td>NaN</td>\n",
       "      <td>NaN</td>\n",
       "    </tr>\n",
       "    <tr>\n",
       "      <th>3271.720</th>\n",
       "      <td>2.681300</td>\n",
       "      <td>22.646879</td>\n",
       "      <td>0.176074</td>\n",
       "      <td>NaN</td>\n",
       "      <td>NaN</td>\n",
       "    </tr>\n",
       "    <tr>\n",
       "      <th>3271.872</th>\n",
       "      <td>2.738337</td>\n",
       "      <td>22.253584</td>\n",
       "      <td>0.174617</td>\n",
       "      <td>NaN</td>\n",
       "      <td>NaN</td>\n",
       "    </tr>\n",
       "    <tr>\n",
       "      <th>3272.024</th>\n",
       "      <td>2.792922</td>\n",
       "      <td>19.829920</td>\n",
       "      <td>0.176627</td>\n",
       "      <td>NaN</td>\n",
       "      <td>NaN</td>\n",
       "    </tr>\n",
       "  </tbody>\n",
       "</table>\n",
       "<p>18270 rows × 5 columns</p>\n",
       "</div>"
      ],
      "text/plain": [
       "              RHOB         GR      NPHI        PEF         DTC\n",
       "DEPTH_MD                                                      \n",
       "494.528   1.884186  80.200851       NaN  20.915468  161.131180\n",
       "494.680   1.889794  79.262886       NaN  19.383013  160.603470\n",
       "494.832   1.896523  74.821999       NaN  22.591518  160.173615\n",
       "494.984   1.891913  72.878922       NaN  32.191910  160.149429\n",
       "495.136   1.880034  71.729141       NaN  38.495632  160.128342\n",
       "...            ...        ...       ...        ...         ...\n",
       "3271.416  2.630211  19.418915  0.187811        NaN         NaN\n",
       "3271.568  2.643114  21.444370  0.185574        NaN         NaN\n",
       "3271.720  2.681300  22.646879  0.176074        NaN         NaN\n",
       "3271.872  2.738337  22.253584  0.174617        NaN         NaN\n",
       "3272.024  2.792922  19.829920  0.176627        NaN         NaN\n",
       "\n",
       "[18270 rows x 5 columns]"
      ]
     },
     "execution_count": 60,
     "metadata": {},
     "output_type": "execute_result"
    }
   ],
   "source": [
    "df"
   ]
  },
  {
   "cell_type": "code",
   "execution_count": 61,
   "id": "3a8e31ba",
   "metadata": {},
   "outputs": [
    {
     "data": {
      "text/plain": [
       "(18270, 5)"
      ]
     },
     "execution_count": 61,
     "metadata": {},
     "output_type": "execute_result"
    }
   ],
   "source": [
    "df.shape"
   ]
  },
  {
   "cell_type": "code",
   "execution_count": 62,
   "id": "2e3e24d8",
   "metadata": {},
   "outputs": [
    {
     "data": {
      "text/plain": [
       "True"
      ]
     },
     "execution_count": 62,
     "metadata": {},
     "output_type": "execute_result"
    }
   ],
   "source": [
    "df.isnull().values.any()"
   ]
  },
  {
   "cell_type": "code",
   "execution_count": 63,
   "id": "2c8d7f8c",
   "metadata": {},
   "outputs": [
    {
     "data": {
      "text/plain": [
       "RHOB       0\n",
       "GR         0\n",
       "NPHI    4238\n",
       "PEF     1830\n",
       "DTC       81\n",
       "dtype: int64"
      ]
     },
     "execution_count": 63,
     "metadata": {},
     "output_type": "execute_result"
    }
   ],
   "source": [
    "df.isnull().sum()"
   ]
  },
  {
   "cell_type": "code",
   "execution_count": 64,
   "id": "67faeae3",
   "metadata": {},
   "outputs": [],
   "source": [
    "df.dropna(inplace=True)"
   ]
  },
  {
   "cell_type": "code",
   "execution_count": 65,
   "id": "ee0e91c4",
   "metadata": {},
   "outputs": [
    {
     "data": {
      "text/html": [
       "<div>\n",
       "<style scoped>\n",
       "    .dataframe tbody tr th:only-of-type {\n",
       "        vertical-align: middle;\n",
       "    }\n",
       "\n",
       "    .dataframe tbody tr th {\n",
       "        vertical-align: top;\n",
       "    }\n",
       "\n",
       "    .dataframe thead th {\n",
       "        text-align: right;\n",
       "    }\n",
       "</style>\n",
       "<table border=\"1\" class=\"dataframe\">\n",
       "  <thead>\n",
       "    <tr style=\"text-align: right;\">\n",
       "      <th></th>\n",
       "      <th>RHOB</th>\n",
       "      <th>GR</th>\n",
       "      <th>NPHI</th>\n",
       "      <th>PEF</th>\n",
       "      <th>DTC</th>\n",
       "    </tr>\n",
       "    <tr>\n",
       "      <th>DEPTH_MD</th>\n",
       "      <th></th>\n",
       "      <th></th>\n",
       "      <th></th>\n",
       "      <th></th>\n",
       "      <th></th>\n",
       "    </tr>\n",
       "  </thead>\n",
       "  <tbody>\n",
       "    <tr>\n",
       "      <th>1138.704</th>\n",
       "      <td>1.774626</td>\n",
       "      <td>55.892757</td>\n",
       "      <td>0.765867</td>\n",
       "      <td>1.631495</td>\n",
       "      <td>147.837677</td>\n",
       "    </tr>\n",
       "    <tr>\n",
       "      <th>1138.856</th>\n",
       "      <td>1.800986</td>\n",
       "      <td>60.929138</td>\n",
       "      <td>0.800262</td>\n",
       "      <td>1.645080</td>\n",
       "      <td>142.382431</td>\n",
       "    </tr>\n",
       "    <tr>\n",
       "      <th>1139.008</th>\n",
       "      <td>1.817696</td>\n",
       "      <td>62.117264</td>\n",
       "      <td>0.765957</td>\n",
       "      <td>1.645873</td>\n",
       "      <td>138.258331</td>\n",
       "    </tr>\n",
       "    <tr>\n",
       "      <th>1139.160</th>\n",
       "      <td>1.829333</td>\n",
       "      <td>61.010860</td>\n",
       "      <td>0.702521</td>\n",
       "      <td>1.620216</td>\n",
       "      <td>139.198914</td>\n",
       "    </tr>\n",
       "    <tr>\n",
       "      <th>1139.312</th>\n",
       "      <td>1.813854</td>\n",
       "      <td>58.501236</td>\n",
       "      <td>0.639708</td>\n",
       "      <td>1.504854</td>\n",
       "      <td>144.290085</td>\n",
       "    </tr>\n",
       "    <tr>\n",
       "      <th>...</th>\n",
       "      <td>...</td>\n",
       "      <td>...</td>\n",
       "      <td>...</td>\n",
       "      <td>...</td>\n",
       "      <td>...</td>\n",
       "    </tr>\n",
       "    <tr>\n",
       "      <th>2993.256</th>\n",
       "      <td>2.468236</td>\n",
       "      <td>90.537521</td>\n",
       "      <td>0.341534</td>\n",
       "      <td>4.699200</td>\n",
       "      <td>86.474564</td>\n",
       "    </tr>\n",
       "    <tr>\n",
       "      <th>2993.408</th>\n",
       "      <td>2.457519</td>\n",
       "      <td>88.819122</td>\n",
       "      <td>0.351085</td>\n",
       "      <td>4.699200</td>\n",
       "      <td>86.187599</td>\n",
       "    </tr>\n",
       "    <tr>\n",
       "      <th>2993.560</th>\n",
       "      <td>2.429228</td>\n",
       "      <td>92.128922</td>\n",
       "      <td>0.364982</td>\n",
       "      <td>4.699200</td>\n",
       "      <td>87.797836</td>\n",
       "    </tr>\n",
       "    <tr>\n",
       "      <th>2993.712</th>\n",
       "      <td>2.425479</td>\n",
       "      <td>95.870255</td>\n",
       "      <td>0.367323</td>\n",
       "      <td>5.224292</td>\n",
       "      <td>88.108452</td>\n",
       "    </tr>\n",
       "    <tr>\n",
       "      <th>2993.864</th>\n",
       "      <td>2.455546</td>\n",
       "      <td>96.814697</td>\n",
       "      <td>0.379080</td>\n",
       "      <td>6.049967</td>\n",
       "      <td>88.956207</td>\n",
       "    </tr>\n",
       "  </tbody>\n",
       "</table>\n",
       "<p>12202 rows × 5 columns</p>\n",
       "</div>"
      ],
      "text/plain": [
       "              RHOB         GR      NPHI       PEF         DTC\n",
       "DEPTH_MD                                                     \n",
       "1138.704  1.774626  55.892757  0.765867  1.631495  147.837677\n",
       "1138.856  1.800986  60.929138  0.800262  1.645080  142.382431\n",
       "1139.008  1.817696  62.117264  0.765957  1.645873  138.258331\n",
       "1139.160  1.829333  61.010860  0.702521  1.620216  139.198914\n",
       "1139.312  1.813854  58.501236  0.639708  1.504854  144.290085\n",
       "...            ...        ...       ...       ...         ...\n",
       "2993.256  2.468236  90.537521  0.341534  4.699200   86.474564\n",
       "2993.408  2.457519  88.819122  0.351085  4.699200   86.187599\n",
       "2993.560  2.429228  92.128922  0.364982  4.699200   87.797836\n",
       "2993.712  2.425479  95.870255  0.367323  5.224292   88.108452\n",
       "2993.864  2.455546  96.814697  0.379080  6.049967   88.956207\n",
       "\n",
       "[12202 rows x 5 columns]"
      ]
     },
     "execution_count": 65,
     "metadata": {},
     "output_type": "execute_result"
    }
   ],
   "source": [
    "df"
   ]
  },
  {
   "cell_type": "code",
   "execution_count": 66,
   "id": "af0dde09",
   "metadata": {},
   "outputs": [
    {
     "data": {
      "text/plain": [
       "RHOB    0\n",
       "GR      0\n",
       "NPHI    0\n",
       "PEF     0\n",
       "DTC     0\n",
       "dtype: int64"
      ]
     },
     "execution_count": 66,
     "metadata": {},
     "output_type": "execute_result"
    }
   ],
   "source": [
    "df.isnull().sum()"
   ]
  },
  {
   "cell_type": "code",
   "execution_count": 67,
   "id": "14d7f2fa",
   "metadata": {},
   "outputs": [
    {
     "data": {
      "text/plain": [
       "(12202, 5)"
      ]
     },
     "execution_count": 67,
     "metadata": {},
     "output_type": "execute_result"
    }
   ],
   "source": [
    "df.shape"
   ]
  },
  {
   "cell_type": "code",
   "execution_count": 68,
   "id": "bfd09610",
   "metadata": {},
   "outputs": [
    {
     "data": {
      "text/html": [
       "<div>\n",
       "<style scoped>\n",
       "    .dataframe tbody tr th:only-of-type {\n",
       "        vertical-align: middle;\n",
       "    }\n",
       "\n",
       "    .dataframe tbody tr th {\n",
       "        vertical-align: top;\n",
       "    }\n",
       "\n",
       "    .dataframe thead th {\n",
       "        text-align: right;\n",
       "    }\n",
       "</style>\n",
       "<table border=\"1\" class=\"dataframe\">\n",
       "  <thead>\n",
       "    <tr style=\"text-align: right;\">\n",
       "      <th></th>\n",
       "      <th>RHOB</th>\n",
       "      <th>GR</th>\n",
       "      <th>NPHI</th>\n",
       "      <th>PEF</th>\n",
       "      <th>DTC</th>\n",
       "    </tr>\n",
       "  </thead>\n",
       "  <tbody>\n",
       "    <tr>\n",
       "      <th>count</th>\n",
       "      <td>12202.000000</td>\n",
       "      <td>12202.000000</td>\n",
       "      <td>12202.000000</td>\n",
       "      <td>12202.000000</td>\n",
       "      <td>12202.000000</td>\n",
       "    </tr>\n",
       "    <tr>\n",
       "      <th>mean</th>\n",
       "      <td>2.149947</td>\n",
       "      <td>61.253852</td>\n",
       "      <td>0.414572</td>\n",
       "      <td>3.912313</td>\n",
       "      <td>121.409905</td>\n",
       "    </tr>\n",
       "    <tr>\n",
       "      <th>std</th>\n",
       "      <td>0.251592</td>\n",
       "      <td>29.902708</td>\n",
       "      <td>0.139207</td>\n",
       "      <td>1.816933</td>\n",
       "      <td>30.394369</td>\n",
       "    </tr>\n",
       "    <tr>\n",
       "      <th>min</th>\n",
       "      <td>1.493417</td>\n",
       "      <td>6.191506</td>\n",
       "      <td>0.037976</td>\n",
       "      <td>1.126667</td>\n",
       "      <td>55.726753</td>\n",
       "    </tr>\n",
       "    <tr>\n",
       "      <th>25%</th>\n",
       "      <td>1.983767</td>\n",
       "      <td>42.792794</td>\n",
       "      <td>0.313797</td>\n",
       "      <td>2.629141</td>\n",
       "      <td>89.977041</td>\n",
       "    </tr>\n",
       "    <tr>\n",
       "      <th>50%</th>\n",
       "      <td>2.059335</td>\n",
       "      <td>62.886322</td>\n",
       "      <td>0.466891</td>\n",
       "      <td>3.365132</td>\n",
       "      <td>138.477173</td>\n",
       "    </tr>\n",
       "    <tr>\n",
       "      <th>75%</th>\n",
       "      <td>2.389839</td>\n",
       "      <td>77.726776</td>\n",
       "      <td>0.513840</td>\n",
       "      <td>4.686422</td>\n",
       "      <td>146.242302</td>\n",
       "    </tr>\n",
       "    <tr>\n",
       "      <th>max</th>\n",
       "      <td>2.889454</td>\n",
       "      <td>499.022583</td>\n",
       "      <td>0.800262</td>\n",
       "      <td>17.026619</td>\n",
       "      <td>163.910797</td>\n",
       "    </tr>\n",
       "  </tbody>\n",
       "</table>\n",
       "</div>"
      ],
      "text/plain": [
       "               RHOB            GR          NPHI           PEF           DTC\n",
       "count  12202.000000  12202.000000  12202.000000  12202.000000  12202.000000\n",
       "mean       2.149947     61.253852      0.414572      3.912313    121.409905\n",
       "std        0.251592     29.902708      0.139207      1.816933     30.394369\n",
       "min        1.493417      6.191506      0.037976      1.126667     55.726753\n",
       "25%        1.983767     42.792794      0.313797      2.629141     89.977041\n",
       "50%        2.059335     62.886322      0.466891      3.365132    138.477173\n",
       "75%        2.389839     77.726776      0.513840      4.686422    146.242302\n",
       "max        2.889454    499.022583      0.800262     17.026619    163.910797"
      ]
     },
     "execution_count": 68,
     "metadata": {},
     "output_type": "execute_result"
    }
   ],
   "source": [
    "df.describe()"
   ]
  },
  {
   "cell_type": "code",
   "execution_count": 69,
   "id": "c4f18c85",
   "metadata": {},
   "outputs": [],
   "source": [
    "scaler=StandardScaler()"
   ]
  },
  {
   "cell_type": "code",
   "execution_count": 70,
   "id": "1507bab8",
   "metadata": {},
   "outputs": [],
   "source": [
    "cols_to_scale=df.columns\n",
    "df[cols_to_scale]=scaler.fit_transform(df[cols_to_scale])"
   ]
  },
  {
   "cell_type": "code",
   "execution_count": 71,
   "id": "191a0550",
   "metadata": {},
   "outputs": [
    {
     "data": {
      "text/html": [
       "<div>\n",
       "<style scoped>\n",
       "    .dataframe tbody tr th:only-of-type {\n",
       "        vertical-align: middle;\n",
       "    }\n",
       "\n",
       "    .dataframe tbody tr th {\n",
       "        vertical-align: top;\n",
       "    }\n",
       "\n",
       "    .dataframe thead th {\n",
       "        text-align: right;\n",
       "    }\n",
       "</style>\n",
       "<table border=\"1\" class=\"dataframe\">\n",
       "  <thead>\n",
       "    <tr style=\"text-align: right;\">\n",
       "      <th></th>\n",
       "      <th>RHOB</th>\n",
       "      <th>GR</th>\n",
       "      <th>NPHI</th>\n",
       "      <th>PEF</th>\n",
       "      <th>DTC</th>\n",
       "    </tr>\n",
       "    <tr>\n",
       "      <th>DEPTH_MD</th>\n",
       "      <th></th>\n",
       "      <th></th>\n",
       "      <th></th>\n",
       "      <th></th>\n",
       "      <th></th>\n",
       "    </tr>\n",
       "  </thead>\n",
       "  <tbody>\n",
       "    <tr>\n",
       "      <th>1138.704</th>\n",
       "      <td>-1.491843</td>\n",
       "      <td>-0.179292</td>\n",
       "      <td>2.523654</td>\n",
       "      <td>-1.255364</td>\n",
       "      <td>0.869531</td>\n",
       "    </tr>\n",
       "    <tr>\n",
       "      <th>1138.856</th>\n",
       "      <td>-1.387067</td>\n",
       "      <td>-0.010859</td>\n",
       "      <td>2.770744</td>\n",
       "      <td>-1.247886</td>\n",
       "      <td>0.690042</td>\n",
       "    </tr>\n",
       "    <tr>\n",
       "      <th>1139.008</th>\n",
       "      <td>-1.320646</td>\n",
       "      <td>0.028875</td>\n",
       "      <td>2.524300</td>\n",
       "      <td>-1.247450</td>\n",
       "      <td>0.554350</td>\n",
       "    </tr>\n",
       "    <tr>\n",
       "      <th>1139.160</th>\n",
       "      <td>-1.274390</td>\n",
       "      <td>-0.008126</td>\n",
       "      <td>2.068584</td>\n",
       "      <td>-1.261572</td>\n",
       "      <td>0.585297</td>\n",
       "    </tr>\n",
       "    <tr>\n",
       "      <th>1139.312</th>\n",
       "      <td>-1.335919</td>\n",
       "      <td>-0.092056</td>\n",
       "      <td>1.617342</td>\n",
       "      <td>-1.325067</td>\n",
       "      <td>0.752808</td>\n",
       "    </tr>\n",
       "  </tbody>\n",
       "</table>\n",
       "</div>"
      ],
      "text/plain": [
       "              RHOB        GR      NPHI       PEF       DTC\n",
       "DEPTH_MD                                                  \n",
       "1138.704 -1.491843 -0.179292  2.523654 -1.255364  0.869531\n",
       "1138.856 -1.387067 -0.010859  2.770744 -1.247886  0.690042\n",
       "1139.008 -1.320646  0.028875  2.524300 -1.247450  0.554350\n",
       "1139.160 -1.274390 -0.008126  2.068584 -1.261572  0.585297\n",
       "1139.312 -1.335919 -0.092056  1.617342 -1.325067  0.752808"
      ]
     },
     "execution_count": 71,
     "metadata": {},
     "output_type": "execute_result"
    }
   ],
   "source": [
    "df.head()"
   ]
  },
  {
   "cell_type": "code",
   "execution_count": 72,
   "id": "3bf44c22",
   "metadata": {},
   "outputs": [],
   "source": [
    "# Create function to work out optimum number of clusters\n",
    "def optimise_k_means(data,max_k):\n",
    "    k,inertia=[],[]\n",
    "    for i in range(1,max_k):\n",
    "        kmeans=KMeans(n_clusters=i,init='k-means++',n_init=10)\n",
    "        kmeans.fit(data)\n",
    "        inertia.append(kmeans.inertia_)\n",
    "        k.append(i)\n",
    "        \n",
    "    # Generate the elbow plot\n",
    "    plt.figure(figsize=(9,7))\n",
    "    plt.plot(k,inertia,'o-')\n",
    "    plt.title('Elbow Diagram')\n",
    "    plt.xlabel('Number of Clusters')\n",
    "    plt.ylabel('Inertia')\n",
    "    plt.grid(True)\n",
    "    plt.show()"
   ]
  },
  {
   "cell_type": "code",
   "execution_count": 73,
   "id": "a27cc81b",
   "metadata": {},
   "outputs": [
    {
     "data": {
      "image/png": "[encoded data removed]",
      "text/plain": [
       "<Figure size 648x504 with 1 Axes>"
      ]
     },
     "metadata": {
      "needs_background": "light"
     },
     "output_type": "display_data"
    }
   ],
   "source": [
    "optimise_k_means(df[['RHOB','NPHI']],11)"
   ]
  },
  {
   "cell_type": "code",
   "execution_count": 74,
   "id": "4d8faf5b",
   "metadata": {},
   "outputs": [
    {
     "data": {
      "text/html": [
       "<style>#sk-container-id-3 {color: black;}#sk-container-id-3 pre{padding: 0;}#sk-container-id-3 div.sk-toggleable {background-color: white;}#sk-container-id-3 label.sk-toggleable__label {cursor: pointer;display: block;width: 100%;margin-bottom: 0;padding: 0.3em;box-sizing: border-box;text-align: center;}#sk-container-id-3 label.sk-toggleable__label-arrow:before {content: \"▸\";float: left;margin-right: 0.25em;color: #696969;}#sk-container-id-3 label.sk-toggleable__label-arrow:hover:before {color: black;}#sk-container-id-3 div.sk-estimator:hover label.sk-toggleable__label-arrow:before {color: black;}#sk-container-id-3 div.sk-toggleable__content {max-height: 0;max-width: 0;overflow: hidden;text-align: left;background-color: #f0f8ff;}#sk-container-id-3 div.sk-toggleable__content pre {margin: 0.2em;color: black;border-radius: 0.25em;background-color: #f0f8ff;}#sk-container-id-3 input.sk-toggleable__control:checked~div.sk-toggleable__content {max-height: 200px;max-width: 100%;overflow: auto;}#sk-container-id-3 input.sk-toggleable__control:checked~label.sk-toggleable__label-arrow:before {content: \"▾\";}#sk-container-id-3 div.sk-estimator input.sk-toggleable__control:checked~label.sk-toggleable__label {background-color: #d4ebff;}#sk-container-id-3 div.sk-label input.sk-toggleable__control:checked~label.sk-toggleable__label {background-color: #d4ebff;}#sk-container-id-3 input.sk-hidden--visually {border: 0;clip: rect(1px 1px 1px 1px);clip: rect(1px, 1px, 1px, 1px);height: 1px;margin: -1px;overflow: hidden;padding: 0;position: absolute;width: 1px;}#sk-container-id-3 div.sk-estimator {font-family: monospace;background-color: #f0f8ff;border: 1px dotted black;border-radius: 0.25em;box-sizing: border-box;margin-bottom: 0.5em;}#sk-container-id-3 div.sk-estimator:hover {background-color: #d4ebff;}#sk-container-id-3 div.sk-parallel-item::after {content: \"\";width: 100%;border-bottom: 1px solid gray;flex-grow: 1;}#sk-container-id-3 div.sk-label:hover label.sk-toggleable__label {background-color: #d4ebff;}#sk-container-id-3 div.sk-serial::before {content: \"\";position: absolute;border-left: 1px solid gray;box-sizing: border-box;top: 0;bottom: 0;left: 50%;z-index: 0;}#sk-container-id-3 div.sk-serial {display: flex;flex-direction: column;align-items: center;background-color: white;padding-right: 0.2em;padding-left: 0.2em;position: relative;}#sk-container-id-3 div.sk-item {position: relative;z-index: 1;}#sk-container-id-3 div.sk-parallel {display: flex;align-items: stretch;justify-content: center;background-color: white;position: relative;}#sk-container-id-3 div.sk-item::before, #sk-container-id-3 div.sk-parallel-item::before {content: \"\";position: absolute;border-left: 1px solid gray;box-sizing: border-box;top: 0;bottom: 0;left: 50%;z-index: -1;}#sk-container-id-3 div.sk-parallel-item {display: flex;flex-direction: column;z-index: 1;position: relative;background-color: white;}#sk-container-id-3 div.sk-parallel-item:first-child::after {align-self: flex-end;width: 50%;}#sk-container-id-3 div.sk-parallel-item:last-child::after {align-self: flex-start;width: 50%;}#sk-container-id-3 div.sk-parallel-item:only-child::after {width: 0;}#sk-container-id-3 div.sk-dashed-wrapped {border: 1px dashed gray;margin: 0 0.4em 0.5em 0.4em;box-sizing: border-box;padding-bottom: 0.4em;background-color: white;}#sk-container-id-3 div.sk-label label {font-family: monospace;font-weight: bold;display: inline-block;line-height: 1.2em;}#sk-container-id-3 div.sk-label-container {text-align: center;}#sk-container-id-3 div.sk-container {/* jupyter's `normalize.less` sets `[hidden] { display: none; }` but bootstrap.min.css set `[hidden] { display: none !important; }` so we also need the `!important` here to be able to override the default hidden behavior on the sphinx rendered scikit-learn.org. See: https://github.com/scikit-learn/scikit-learn/issues/21755 */display: inline-block !important;position: relative;}#sk-container-id-3 div.sk-text-repr-fallback {display: none;}</style><div id=\"sk-container-id-3\" class=\"sk-top-container\"><div class=\"sk-text-repr-fallback\"><pre>KMeans(n_clusters=2, n_init=10)</pre><b>In a Jupyter environment, please rerun this cell to show the HTML representation or trust the notebook. <br />On GitHub, the HTML representation is unable to render, please try loading this page with nbviewer.org.</b></div><div class=\"sk-container\" hidden><div class=\"sk-item\"><div class=\"sk-estimator sk-toggleable\"><input class=\"sk-toggleable__control sk-hidden--visually\" id=\"sk-estimator-id-3\" type=\"checkbox\" checked><label for=\"sk-estimator-id-3\" class=\"sk-toggleable__label sk-toggleable__label-arrow\">KMeans</label><div class=\"sk-toggleable__content\"><pre>KMeans(n_clusters=2, n_init=10)</pre></div></div></div></div></div>"
      ],
      "text/plain": [
       "KMeans(n_clusters=2, n_init=10)"
      ]
     },
     "execution_count": 74,
     "metadata": {},
     "output_type": "execute_result"
    }
   ],
   "source": [
    "model=KMeans(n_clusters=2,init='k-means++',n_init=10)\n",
    "model.fit(df[['RHOB','NPHI']])"
   ]
  },
  {
   "cell_type": "code",
   "execution_count": 75,
   "id": "c5ac1140",
   "metadata": {},
   "outputs": [],
   "source": [
    "df['cluster']=model.labels_"
   ]
  },
  {
   "cell_type": "code",
   "execution_count": 76,
   "id": "5f8e91b7",
   "metadata": {},
   "outputs": [
    {
     "data": {
      "text/html": [
       "<div>\n",
       "<style scoped>\n",
       "    .dataframe tbody tr th:only-of-type {\n",
       "        vertical-align: middle;\n",
       "    }\n",
       "\n",
       "    .dataframe tbody tr th {\n",
       "        vertical-align: top;\n",
       "    }\n",
       "\n",
       "    .dataframe thead th {\n",
       "        text-align: right;\n",
       "    }\n",
       "</style>\n",
       "<table border=\"1\" class=\"dataframe\">\n",
       "  <thead>\n",
       "    <tr style=\"text-align: right;\">\n",
       "      <th></th>\n",
       "      <th>RHOB</th>\n",
       "      <th>GR</th>\n",
       "      <th>NPHI</th>\n",
       "      <th>PEF</th>\n",
       "      <th>DTC</th>\n",
       "      <th>cluster</th>\n",
       "    </tr>\n",
       "    <tr>\n",
       "      <th>DEPTH_MD</th>\n",
       "      <th></th>\n",
       "      <th></th>\n",
       "      <th></th>\n",
       "      <th></th>\n",
       "      <th></th>\n",
       "      <th></th>\n",
       "    </tr>\n",
       "  </thead>\n",
       "  <tbody>\n",
       "    <tr>\n",
       "      <th>1539.072</th>\n",
       "      <td>0.016312</td>\n",
       "      <td>0.002898</td>\n",
       "      <td>0.037655</td>\n",
       "      <td>-0.483948</td>\n",
       "      <td>0.171276</td>\n",
       "      <td>0</td>\n",
       "    </tr>\n",
       "    <tr>\n",
       "      <th>2219.120</th>\n",
       "      <td>0.169960</td>\n",
       "      <td>-0.724285</td>\n",
       "      <td>-0.177555</td>\n",
       "      <td>-0.308573</td>\n",
       "      <td>-0.085090</td>\n",
       "      <td>0</td>\n",
       "    </tr>\n",
       "    <tr>\n",
       "      <th>1968.320</th>\n",
       "      <td>-0.339160</td>\n",
       "      <td>0.359637</td>\n",
       "      <td>0.915967</td>\n",
       "      <td>-0.572389</td>\n",
       "      <td>0.780469</td>\n",
       "      <td>0</td>\n",
       "    </tr>\n",
       "    <tr>\n",
       "      <th>2211.064</th>\n",
       "      <td>-0.221054</td>\n",
       "      <td>-0.417861</td>\n",
       "      <td>0.484358</td>\n",
       "      <td>0.513713</td>\n",
       "      <td>0.056698</td>\n",
       "      <td>0</td>\n",
       "    </tr>\n",
       "    <tr>\n",
       "      <th>2745.952</th>\n",
       "      <td>0.091318</td>\n",
       "      <td>3.862845</td>\n",
       "      <td>0.701794</td>\n",
       "      <td>0.851616</td>\n",
       "      <td>0.274169</td>\n",
       "      <td>0</td>\n",
       "    </tr>\n",
       "  </tbody>\n",
       "</table>\n",
       "</div>"
      ],
      "text/plain": [
       "              RHOB        GR      NPHI       PEF       DTC  cluster\n",
       "DEPTH_MD                                                           \n",
       "1539.072  0.016312  0.002898  0.037655 -0.483948  0.171276        0\n",
       "2219.120  0.169960 -0.724285 -0.177555 -0.308573 -0.085090        0\n",
       "1968.320 -0.339160  0.359637  0.915967 -0.572389  0.780469        0\n",
       "2211.064 -0.221054 -0.417861  0.484358  0.513713  0.056698        0\n",
       "2745.952  0.091318  3.862845  0.701794  0.851616  0.274169        0"
      ]
     },
     "execution_count": 76,
     "metadata": {},
     "output_type": "execute_result"
    }
   ],
   "source": [
    "df.sample(5)"
   ]
  },
  {
   "cell_type": "code",
   "execution_count": 77,
   "id": "5824924a",
   "metadata": {},
   "outputs": [
    {
     "data": {
      "image/png": "[encoded data removed]",
      "text/plain": [
       "<Figure size 648x504 with 1 Axes>"
      ]
     },
     "metadata": {
      "needs_background": "light"
     },
     "output_type": "display_data"
    }
   ],
   "source": [
    "plt.figure(figsize=(9,7))\n",
    "df['cluster'].value_counts().plot(kind='bar')\n",
    "plt.show()"
   ]
  },
  {
   "cell_type": "code",
   "execution_count": 78,
   "id": "341fe29b",
   "metadata": {},
   "outputs": [
    {
     "data": {
      "image/png": "[encoded data removed]",
      "text/plain": [
       "<Figure size 648x504 with 1 Axes>"
      ]
     },
     "metadata": {
      "needs_background": "light"
     },
     "output_type": "display_data"
    }
   ],
   "source": [
    "plt.figure(figsize=(9,7))\n",
    "plt.scatter(x=df['NPHI'],y=df['RHOB'],c=df['cluster'])\n",
    "plt.title('Clustering Representation')\n",
    "plt.xlabel('NPHI')\n",
    "plt.ylabel('RHOB')\n",
    "plt.show()"
   ]
  },
  {
   "cell_type": "code",
   "execution_count": 79,
   "id": "80a60977",
   "metadata": {},
   "outputs": [],
   "source": [
    "pickle.dump(df,open('df.pickle','wb'))\n",
    "pickle.dump(model,open('model.pickle','wb'))"
   ]
  }
 ],
 "metadata": {
  "kernelspec": {
   "display_name": "Python 3 (ipykernel)",
   "language": "python",
   "name": "python3"
  },
  "language_info": {
   "codemirror_mode": {
    "name": "ipython",
    "version": 3
   },
   "file_extension": ".py",
   "mimetype": "text/x-python",
   "name": "python",
   "nbconvert_exporter": "python",
   "pygments_lexer": "ipython3",
   "version": "3.10.5"
  }
 },
 "nbformat": 4,
 "nbformat_minor": 5
}
